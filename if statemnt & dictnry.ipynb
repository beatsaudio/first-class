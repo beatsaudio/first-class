{
 "cells": [
  {
   "cell_type": "code",
   "execution_count": 1,
   "metadata": {},
   "outputs": [
    {
     "data": {
      "text/plain": [
       "True"
      ]
     },
     "execution_count": 1,
     "metadata": {},
     "output_type": "execute_result"
    }
   ],
   "source": [
    "5==5"
   ]
  },
  {
   "cell_type": "code",
   "execution_count": 2,
   "metadata": {},
   "outputs": [
    {
     "data": {
      "text/plain": [
       "False"
      ]
     },
     "execution_count": 2,
     "metadata": {},
     "output_type": "execute_result"
    }
   ],
   "source": [
    "4==9"
   ]
  },
  {
   "cell_type": "code",
   "execution_count": 3,
   "metadata": {},
   "outputs": [
    {
     "data": {
      "text/plain": [
       "True"
      ]
     },
     "execution_count": 3,
     "metadata": {},
     "output_type": "execute_result"
    }
   ],
   "source": [
    "5<7"
   ]
  },
  {
   "cell_type": "code",
   "execution_count": 4,
   "metadata": {},
   "outputs": [
    {
     "data": {
      "text/plain": [
       "True"
      ]
     },
     "execution_count": 4,
     "metadata": {},
     "output_type": "execute_result"
    }
   ],
   "source": [
    "5>1"
   ]
  },
  {
   "cell_type": "code",
   "execution_count": 5,
   "metadata": {},
   "outputs": [
    {
     "data": {
      "text/plain": [
       "False"
      ]
     },
     "execution_count": 5,
     "metadata": {},
     "output_type": "execute_result"
    }
   ],
   "source": [
    "5>10"
   ]
  },
  {
   "cell_type": "code",
   "execution_count": 6,
   "metadata": {},
   "outputs": [
    {
     "data": {
      "text/plain": [
       "False"
      ]
     },
     "execution_count": 6,
     "metadata": {},
     "output_type": "execute_result"
    }
   ],
   "source": [
    "1>9"
   ]
  },
  {
   "cell_type": "code",
   "execution_count": 8,
   "metadata": {},
   "outputs": [
    {
     "name": "stdout",
     "output_type": "stream",
     "text": [
      "valid\n"
     ]
    }
   ],
   "source": [
    "if True:\n",
    "    print(\"valid\")\n",
    "else:\n",
    "    print(\"not valid\")"
   ]
  },
  {
   "cell_type": "code",
   "execution_count": 9,
   "metadata": {},
   "outputs": [
    {
     "name": "stdout",
     "output_type": "stream",
     "text": [
      "welcome\n"
     ]
    }
   ],
   "source": [
    "if False:\n",
    "    print(\"error\")\n",
    "else:\n",
    "    print(\"welcome\")"
   ]
  },
  {
   "cell_type": "code",
   "execution_count": 10,
   "metadata": {},
   "outputs": [
    {
     "name": "stdout",
     "output_type": "stream",
     "text": [
      "welcome\n"
     ]
    }
   ],
   "source": [
    "a = 200\n",
    "\n",
    "if a>= 100:\n",
    "    print(\"welcome\")\n"
   ]
  },
  {
   "cell_type": "code",
   "execution_count": 11,
   "metadata": {},
   "outputs": [
    {
     "name": "stdout",
     "output_type": "stream",
     "text": [
      "user nametaha\n"
     ]
    },
    {
     "data": {
      "text/plain": [
       "'taha'"
      ]
     },
     "execution_count": 11,
     "metadata": {},
     "output_type": "execute_result"
    }
   ],
   "source": [
    "input(\"user name\")"
   ]
  },
  {
   "cell_type": "code",
   "execution_count": 12,
   "metadata": {},
   "outputs": [
    {
     "name": "stdout",
     "output_type": "stream",
     "text": [
      "user name: taha\n"
     ]
    },
    {
     "data": {
      "text/plain": [
       "'taha'"
      ]
     },
     "execution_count": 12,
     "metadata": {},
     "output_type": "execute_result"
    }
   ],
   "source": [
    "input(\"user name: \")"
   ]
  },
  {
   "cell_type": "code",
   "execution_count": 13,
   "metadata": {},
   "outputs": [
    {
     "name": "stdout",
     "output_type": "stream",
     "text": [
      "email address: beatsaudiomtk16@gmail.com\n"
     ]
    },
    {
     "data": {
      "text/plain": [
       "'beatsaudiomtk16@gmail.com'"
      ]
     },
     "execution_count": 13,
     "metadata": {},
     "output_type": "execute_result"
    }
   ],
   "source": [
    "input(\"email address: \")"
   ]
  },
  {
   "cell_type": "code",
   "execution_count": 14,
   "metadata": {},
   "outputs": [
    {
     "name": "stdout",
     "output_type": "stream",
     "text": [
      " enter your email address: beatsaudiomtk16@gmail.com\n"
     ]
    },
    {
     "data": {
      "text/plain": [
       "'beatsaudiomtk16@gmail.com'"
      ]
     },
     "execution_count": 14,
     "metadata": {},
     "output_type": "execute_result"
    }
   ],
   "source": [
    "input(\" enter your email address: \")"
   ]
  },
  {
   "cell_type": "code",
   "execution_count": 15,
   "metadata": {},
   "outputs": [
    {
     "name": "stdout",
     "output_type": "stream",
     "text": [
      "welcome\n",
      "enter user name: taha khan\n"
     ]
    },
    {
     "data": {
      "text/plain": [
       "'taha khan'"
      ]
     },
     "execution_count": 15,
     "metadata": {},
     "output_type": "execute_result"
    }
   ],
   "source": [
    "if True:\n",
    "    print(\"welcome\")\n",
    "\n",
    "else:\n",
    "    print(\"not valid\")\n",
    "    \n",
    "input(\"enter user name: \")"
   ]
  },
  {
   "cell_type": "code",
   "execution_count": 16,
   "metadata": {},
   "outputs": [
    {
     "name": "stdout",
     "output_type": "stream",
     "text": [
      "enter any no: 80\n",
      "not valid\n"
     ]
    }
   ],
   "source": [
    "no = input(\"enter any no: \")\n",
    "\n",
    "if int(no) >= 100:\n",
    "    print(\"welcome\")\n",
    "else:\n",
    "    print(\"not valid\")"
   ]
  },
  {
   "cell_type": "code",
   "execution_count": 17,
   "metadata": {},
   "outputs": [
    {
     "name": "stdout",
     "output_type": "stream",
     "text": [
      "enter your pin: 150\n",
      "welcome\n"
     ]
    }
   ],
   "source": [
    "no = input(\"enter your pin: \")\n",
    "if int(no) >= 100:\n",
    "    print(\"welcome\")\n",
    "else:\n",
    "    print(\"error\")"
   ]
  },
  {
   "cell_type": "code",
   "execution_count": 20,
   "metadata": {},
   "outputs": [
    {
     "name": "stdout",
     "output_type": "stream",
     "text": [
      "enter your pin50\n",
      "not valid\n"
     ]
    }
   ],
   "source": [
    "no = input(\"enter your pin\")\n",
    "if int(no)>= 100:\n",
    "    print(\"welcome\")\n",
    "else:\n",
    "    print(\"not valid\")"
   ]
  },
  {
   "cell_type": "code",
   "execution_count": 21,
   "metadata": {
    "scrolled": true
   },
   "outputs": [
    {
     "name": "stdout",
     "output_type": "stream",
     "text": [
      "enter your pin: 0\n",
      "incorrect pin\n"
     ]
    }
   ],
   "source": [
    "pin = input(\"enter your pin: \")\n",
    "if int(pin)>=100:\n",
    "    print(\"welcome dear\")\n",
    "else:\n",
    "    print(\"incorrect pin\")"
   ]
  },
  {
   "cell_type": "code",
   "execution_count": 22,
   "metadata": {},
   "outputs": [
    {
     "name": "stdout",
     "output_type": "stream",
     "text": [
      "enter your pin: 400\n",
      "welcome dear\n"
     ]
    }
   ],
   "source": [
    "pin = input(\"enter your pin: \")\n",
    "if int(pin)>=100:\n",
    "    print(\"welcome dear\")\n",
    "else:\n",
    "    print(\"incorrect pin\")"
   ]
  },
  {
   "cell_type": "code",
   "execution_count": 25,
   "metadata": {},
   "outputs": [
    {
     "name": "stdout",
     "output_type": "stream",
     "text": [
      "enter your pin: 44\n",
      "incorrect pin\n"
     ]
    }
   ],
   "source": [
    "pin = input(\"enter your pin: \")\n",
    "if int(pin)>=100:\n",
    "    print(\"welcome dear\")\n",
    "else:\n",
    "    print(\"incorrect pin\")\n"
   ]
  },
  {
   "cell_type": "code",
   "execution_count": 28,
   "metadata": {},
   "outputs": [
    {
     "name": "stdout",
     "output_type": "stream",
     "text": [
      "enter your pin: 0\n",
      "incorrect pin\n"
     ]
    }
   ],
   "source": [
    "pin = input(\"enter your pin: \")\n",
    "if int(pin)>=100:\n",
    "    print(\"welcome dear\")\n",
    "else:\n",
    "    print(\"incorrect pin\")\n"
   ]
  },
  {
   "cell_type": "markdown",
   "metadata": {},
   "source": [
    "# GRADING SYSTEM"
   ]
  },
  {
   "cell_type": "markdown",
   "metadata": {},
   "source": [
    " - 80%>= \"A+\"\n",
    "\n",
    " - 70%>= \"A\"\n",
    "\n",
    " - 60%>= \"B\"\n",
    "\n",
    " - 50%>= \"C\"\n",
    "\n",
    " - 50%< \"Fail\""
   ]
  },
  {
   "cell_type": "code",
   "execution_count": 31,
   "metadata": {},
   "outputs": [
    {
     "name": "stdout",
     "output_type": "stream",
     "text": [
      "enter your persentage: 50\n",
      "c\n"
     ]
    }
   ],
   "source": [
    "per = input(\"enter your persentage: \")\n",
    "per = int(per)\n",
    "\n",
    "if per>= 50:\n",
    "    print(\"c\")\n",
    "elif per>=60:\n",
    "    print>=(\"b\")\n",
    "elif per>= 70:\n",
    "    print(\"a\")\n",
    "elif per>= 80:\n",
    "    print(\"a+\")\n",
    "else:\n",
    "    print(\"try next time\")"
   ]
  },
  {
   "cell_type": "code",
   "execution_count": 32,
   "metadata": {},
   "outputs": [
    {
     "name": "stdout",
     "output_type": "stream",
     "text": [
      "enter your persentage: 55\n",
      "c\n"
     ]
    }
   ],
   "source": [
    "per = input(\"enter your persentage: \")\n",
    "per = int(per)\n",
    "\n",
    "if per>= 50:\n",
    "    print(\"c\")\n",
    "elif per>=60:\n",
    "    print>=(\"b\")\n",
    "elif per>= 70:\n",
    "    print(\"a\")\n",
    "elif per>= 80:\n",
    "    print(\"a+\")\n",
    "else:\n",
    "    print(\"try next time\")"
   ]
  },
  {
   "cell_type": "code",
   "execution_count": 33,
   "metadata": {},
   "outputs": [
    {
     "name": "stdout",
     "output_type": "stream",
     "text": [
      "enter your persentage: 40\n",
      "try next time\n"
     ]
    }
   ],
   "source": [
    "per = input(\"enter your persentage: \")\n",
    "per = int(per)\n",
    "\n",
    "if per>= 50:\n",
    "    print(\"c\")\n",
    "elif per>=60:\n",
    "    print>=(\"b\")\n",
    "elif per>= 70:\n",
    "    print(\"a\")\n",
    "elif per>= 80:\n",
    "    print(\"a+\")\n",
    "else:\n",
    "    print(\"try next time\")"
   ]
  },
  {
   "cell_type": "code",
   "execution_count": 34,
   "metadata": {},
   "outputs": [
    {
     "name": "stdout",
     "output_type": "stream",
     "text": [
      "enter your persentage: 100\n",
      "c\n"
     ]
    }
   ],
   "source": [
    "per = input(\"enter your persentage: \")\n",
    "per = int(per)\n",
    "\n",
    "if per>= 50:\n",
    "    print(\"c\")\n",
    "elif per>=60:\n",
    "    print>=(\"b\")\n",
    "elif per>= 70:\n",
    "    print(\"a\")\n",
    "elif per>= 80:\n",
    "    print(\"a+\")\n",
    "else:\n",
    "    print(\"try next time\")"
   ]
  },
  {
   "cell_type": "code",
   "execution_count": 35,
   "metadata": {},
   "outputs": [
    {
     "name": "stdout",
     "output_type": "stream",
     "text": [
      "enter your persentage: 77\n",
      "c\n"
     ]
    }
   ],
   "source": [
    "per = input(\"enter your persentage: \")\n",
    "per = int(per)\n",
    "\n",
    "if per>= 50:\n",
    "    print(\"c\")\n",
    "elif per>=60:\n",
    "    print>=(\"b\")\n",
    "elif per>= 70:\n",
    "    print(\"a\")\n",
    "elif per>= 80:\n",
    "    print(\"a+\")\n",
    "else:\n",
    "    print(\"try next time\")\n"
   ]
  },
  {
   "cell_type": "code",
   "execution_count": 36,
   "metadata": {},
   "outputs": [
    {
     "name": "stdout",
     "output_type": "stream",
     "text": [
      "enter your persentage: 55\n",
      "c\n"
     ]
    }
   ],
   "source": [
    "per = input(\"enter your persentage: \")\n",
    "per = int(per)\n",
    "\n",
    "if per>= 50 and per <60:\n",
    "    print(\"c\")\n",
    "elif per>=60 and per <70:\n",
    "    print>=(\"b\")\n",
    "elif per>= 70 and per <80:\n",
    "    print(\"a\")\n",
    "elif per>= 80 and per <100:\n",
    "    print(\"a+\")\n",
    "else:\n",
    "    print(\"try next time\")"
   ]
  },
  {
   "cell_type": "code",
   "execution_count": 37,
   "metadata": {},
   "outputs": [
    {
     "name": "stdout",
     "output_type": "stream",
     "text": [
      "enter your persentage: 88\n",
      "a+\n"
     ]
    }
   ],
   "source": [
    "per = input(\"enter your persentage: \")\n",
    "per = int(per)\n",
    "\n",
    "if per>= 50 and per <60:\n",
    "    print(\"c\")\n",
    "elif per>=60 and per <70:\n",
    "    print>=(\"b\")\n",
    "elif per>= 70 and per <80:\n",
    "    print(\"a\")\n",
    "elif per>= 80 and per <100:\n",
    "    print(\"a+\")\n",
    "else:\n",
    "    print(\"try next time\")"
   ]
  },
  {
   "cell_type": "code",
   "execution_count": 38,
   "metadata": {},
   "outputs": [
    {
     "name": "stdout",
     "output_type": "stream",
     "text": [
      "enter your persentage: 5\n",
      "try next time\n"
     ]
    }
   ],
   "source": [
    "per = input(\"enter your persentage: \")\n",
    "per = int(per)\n",
    "\n",
    "if per>= 50 and per <60:\n",
    "    print(\"c\")\n",
    "elif per>=60 and per <70:\n",
    "    print>=(\"b\")\n",
    "elif per>= 70 and per <80:\n",
    "    print(\"a\")\n",
    "elif per>= 80 and per <100:\n",
    "    print(\"a+\")\n",
    "else:\n",
    "    print(\"try next time\")"
   ]
  },
  {
   "cell_type": "code",
   "execution_count": 39,
   "metadata": {},
   "outputs": [
    {
     "name": "stdout",
     "output_type": "stream",
     "text": [
      "enter your persentage: 02\n",
      "try next time\n"
     ]
    }
   ],
   "source": [
    "per = input(\"enter your persentage: \")\n",
    "per = int(per)\n",
    "\n",
    "if per>= 50 and per <60:\n",
    "    print(\"c\")\n",
    "elif per>=60 and per <70:\n",
    "    print>=(\"b\")\n",
    "elif per>= 70 and per <80:\n",
    "    print(\"a\")\n",
    "elif per>= 80 and per <100:\n",
    "    print(\"a+\")\n",
    "else:\n",
    "    print(\"try next time\")"
   ]
  },
  {
   "cell_type": "code",
   "execution_count": 41,
   "metadata": {},
   "outputs": [
    {
     "name": "stdout",
     "output_type": "stream",
     "text": [
      "enter your persentage: 88\n",
      "a+\n"
     ]
    }
   ],
   "source": [
    "per = input(\"enter your persentage: \")\n",
    "per = int(per)\n",
    "\n",
    "if per>= 50 and per <60:\n",
    "    print(\"c\")\n",
    "elif per>=60 and per <70:\n",
    "    print>=(\"b\")\n",
    "elif per>= 70 and per <80:\n",
    "    print(\"a\")\n",
    "elif per>= 80 and per <100:\n",
    "    print(\"a+\")\n",
    "else:\n",
    "    print(\"try next time\")"
   ]
  },
  {
   "cell_type": "code",
   "execution_count": 44,
   "metadata": {},
   "outputs": [
    {
     "name": "stdout",
     "output_type": "stream",
     "text": [
      "enter your persentage: 66\n",
      "b\n"
     ]
    }
   ],
   "source": [
    "per = input(\"enter your persentage: \")\n",
    "per = int(per)\n",
    "\n",
    "if per>= 50 and per <60:\n",
    "    print(\"c\")\n",
    "elif per>=60 and per <70:\n",
    "    print(\"b\")\n",
    "elif per>= 70 and per <80:\n",
    "    print(\"a\")\n",
    "elif per>= 80 and per <100:\n",
    "    print(\"a+\")\n",
    "else:\n",
    "    print(\"try next time\")"
   ]
  },
  {
   "cell_type": "code",
   "execution_count": 45,
   "metadata": {},
   "outputs": [
    {
     "name": "stdout",
     "output_type": "stream",
     "text": [
      "enter your persentage: 77\n",
      "a\n"
     ]
    }
   ],
   "source": [
    "per = input(\"enter your persentage: \")\n",
    "per = int(per)\n",
    "\n",
    "if per>= 50 and per <60:\n",
    "    print(\"c\")\n",
    "elif per>=60 and per <70:\n",
    "    print>=(\"b\")\n",
    "elif per>= 70 and per <80:\n",
    "    print(\"a\")\n",
    "elif per>= 80 and per <100:\n",
    "    print(\"a+\")\n",
    "else:\n",
    "    print(\"try next time\")"
   ]
  },
  {
   "cell_type": "code",
   "execution_count": 53,
   "metadata": {},
   "outputs": [
    {
     "name": "stdout",
     "output_type": "stream",
     "text": [
      "enter your age: 16\n",
      "collage\n"
     ]
    }
   ],
   "source": [
    "age = input(\"enter your age: \")\n",
    "age = int(age)\n",
    "\n",
    "if age>= 10 and age <15:\n",
    "    print(\"student\")\n",
    "elif age>= 15 and age <20:\n",
    "    print(\"collage\")\n",
    "elif age>= 20 and age <25:\n",
    "    print(\"university\")\n",
    "elif age>= 25 and age <30:\n",
    "    print(\"job\")\n",
    "else:\n",
    "    print(\"error\")"
   ]
  },
  {
   "cell_type": "code",
   "execution_count": 54,
   "metadata": {},
   "outputs": [
    {
     "name": "stdout",
     "output_type": "stream",
     "text": [
      "enter your age: 2\n",
      "error\n"
     ]
    }
   ],
   "source": [
    "age = input(\"enter your age: \")\n",
    "age = int(age)\n",
    "\n",
    "if age>= 10 and age <15:\n",
    "    print(\"student\")\n",
    "elif age>= 15 and age <20:\n",
    "    print(\"collage\")\n",
    "elif age>= 20 and age <25:\n",
    "    print(\"university\")\n",
    "elif age>= 25 and age <30:\n",
    "    print(\"job\")\n",
    "else:\n",
    "    print(\"error\")"
   ]
  },
  {
   "cell_type": "code",
   "execution_count": 55,
   "metadata": {},
   "outputs": [
    {
     "name": "stdout",
     "output_type": "stream",
     "text": [
      "enter your age: 25\n",
      "job\n"
     ]
    }
   ],
   "source": [
    "age = input(\"enter your age: \")\n",
    "age = int(age)\n",
    "\n",
    "if age>= 10 and age <15:\n",
    "    print(\"student\")\n",
    "elif age>= 15 and age <20:\n",
    "    print(\"collage\")\n",
    "elif age>= 20 and age <25:\n",
    "    print(\"university\")\n",
    "elif age>= 25 and age <30:\n",
    "    print(\"job\")\n",
    "else:\n",
    "    print(\"error\")"
   ]
  },
  {
   "cell_type": "code",
   "execution_count": 57,
   "metadata": {},
   "outputs": [
    {
     "name": "stdout",
     "output_type": "stream",
     "text": [
      "enter your age: 25\n",
      "job\n"
     ]
    }
   ],
   "source": [
    "age = input(\"enter your age: \")\n",
    "age = int(age)\n",
    "\n",
    "if age>= 10 and age <15:\n",
    "    print(\"student\")\n",
    "elif age>= 16 and age <20:\n",
    "    print(\"collage\")\n",
    "elif age>= 21 and age <25:\n",
    "    print(\"university\")\n",
    "elif age>= 25 and age <30:\n",
    "    print(\"job\")\n",
    "else:\n",
    "    print(\"error\")"
   ]
  },
  {
   "cell_type": "code",
   "execution_count": 58,
   "metadata": {},
   "outputs": [
    {
     "name": "stdout",
     "output_type": "stream",
     "text": [
      "enter your age: 20\n",
      "university\n"
     ]
    }
   ],
   "source": [
    "age = input(\"enter your age: \")\n",
    "age = int(age)\n",
    "\n",
    "if age>= 10 and age <15:\n",
    "    print(\"student\")\n",
    "elif age>= 15 and age <20:\n",
    "    print(\"collage\")\n",
    "elif age>= 20 and age <25:\n",
    "    print(\"university\")\n",
    "elif age>= 25 and age <30:\n",
    "    print(\"job\")\n",
    "else:\n",
    "    print(\"error\")"
   ]
  },
  {
   "cell_type": "code",
   "execution_count": 60,
   "metadata": {},
   "outputs": [
    {
     "name": "stdout",
     "output_type": "stream",
     "text": [
      "enter your age: 12\n",
      "student\n"
     ]
    }
   ],
   "source": [
    "age = input(\"enter your age: \")\n",
    "age = int(age)\n",
    "\n",
    "if age>= 10 and age <15:\n",
    "    print(\"student\")\n",
    "elif age>= 15 and age <20:\n",
    "    print(\"collage\")\n",
    "elif age>= 20 and age <25:\n",
    "    print(\"university\")\n",
    "elif age>= 25 and age <30:\n",
    "    print(\"job\")\n",
    "else:\n",
    "    print(\"error\")"
   ]
  },
  {
   "cell_type": "code",
   "execution_count": 61,
   "metadata": {},
   "outputs": [
    {
     "name": "stdout",
     "output_type": "stream",
     "text": [
      "enter your age: 24\n",
      "university\n"
     ]
    }
   ],
   "source": [
    "age = input(\"enter your age: \")\n",
    "age = int(age)\n",
    "\n",
    "if age>= 10 and age <15:\n",
    "    print(\"student\")\n",
    "elif age>= 15 and age <20:\n",
    "    print(\"collage\")\n",
    "elif age>= 20 and age <25:\n",
    "    print(\"university\")\n",
    "elif age>= 25 and age <30:\n",
    "    print(\"job\")\n",
    "else:\n",
    "    print(\"error\")"
   ]
  },
  {
   "cell_type": "code",
   "execution_count": 62,
   "metadata": {},
   "outputs": [
    {
     "name": "stdout",
     "output_type": "stream",
     "text": [
      "enter your age: 20\n",
      "mature\n"
     ]
    }
   ],
   "source": [
    "age = input(\"enter your age: \")\n",
    "age = int(age)\n",
    "\n",
    "if age>= 10 and age <15:\n",
    "    print(\"young\")\n",
    "elif age>= 15 and age <20:\n",
    "    print(\"adult\")\n",
    "elif age>= 20 and age <25:\n",
    "    print(\"mature\")\n",
    "elif age>= 25 and age <30:\n",
    "    print(\"leader\")\n",
    "else:\n",
    "    print(\"error\")"
   ]
  },
  {
   "cell_type": "code",
   "execution_count": 63,
   "metadata": {},
   "outputs": [
    {
     "name": "stdout",
     "output_type": "stream",
     "text": [
      "enter your age: 21\n",
      "mature\n"
     ]
    }
   ],
   "source": [
    "age = input(\"enter your age: \")\n",
    "age = int(age)\n",
    "\n",
    "if age>= 10 and age <15:\n",
    "    print(\"young\")\n",
    "elif age>= 15 and age <20:\n",
    "    print(\"adult\")\n",
    "elif age>= 20 and age <25:\n",
    "    print(\"mature\")\n",
    "elif age>= 25 and age <30:\n",
    "    print(\"leader\")\n",
    "else:\n",
    "    print(\"error\")"
   ]
  },
  {
   "cell_type": "code",
   "execution_count": 64,
   "metadata": {},
   "outputs": [
    {
     "name": "stdout",
     "output_type": "stream",
     "text": [
      "enter your age: 19\n",
      "adult\n"
     ]
    }
   ],
   "source": [
    "age = input(\"enter your age: \")\n",
    "age = int(age)\n",
    "\n",
    "if age>= 10 and age <15:\n",
    "    print(\"young\")\n",
    "elif age>= 15 and age <20:\n",
    "    print(\"adult\")\n",
    "elif age>= 20 and age <25:\n",
    "    print(\"mature\")\n",
    "elif age>= 25 and age <30:\n",
    "    print(\"leader\")\n",
    "else:\n",
    "    print(\"error\")"
   ]
  },
  {
   "cell_type": "code",
   "execution_count": 69,
   "metadata": {},
   "outputs": [],
   "source": [
    "def grade(age):\n",
    "    age = int(age)\n",
    "\n",
    "    if age>= 10 and age <15:\n",
    "        print(\"young\")\n",
    "    elif age>= 15 and age <20:\n",
    "        print(\"adult\")\n",
    "    elif age>= 20 and age <25:\n",
    "        print(\"mature\")\n",
    "    elif age>= 25 and age <30:\n",
    "        print(\"leader\")\n",
    "    else:\n",
    "        print(\"error\")"
   ]
  },
  {
   "cell_type": "code",
   "execution_count": 70,
   "metadata": {},
   "outputs": [
    {
     "name": "stdout",
     "output_type": "stream",
     "text": [
      "mature\n"
     ]
    }
   ],
   "source": [
    "grade(22)"
   ]
  },
  {
   "cell_type": "code",
   "execution_count": 71,
   "metadata": {},
   "outputs": [
    {
     "name": "stdout",
     "output_type": "stream",
     "text": [
      "adult\n"
     ]
    }
   ],
   "source": [
    "grade(15)"
   ]
  },
  {
   "cell_type": "code",
   "execution_count": 72,
   "metadata": {},
   "outputs": [
    {
     "name": "stdout",
     "output_type": "stream",
     "text": [
      "leader\n"
     ]
    }
   ],
   "source": [
    "grade(28)"
   ]
  },
  {
   "cell_type": "code",
   "execution_count": 73,
   "metadata": {},
   "outputs": [
    {
     "name": "stdout",
     "output_type": "stream",
     "text": [
      "error\n"
     ]
    }
   ],
   "source": [
    "grade(8)"
   ]
  },
  {
   "cell_type": "code",
   "execution_count": 79,
   "metadata": {},
   "outputs": [
    {
     "name": "stdout",
     "output_type": "stream",
     "text": [
      "your age: 55\n",
      "try next time\n"
     ]
    }
   ],
   "source": [
    "age = input(\"your age: \")\n",
    "age = int(age)\n",
    "\n",
    "if age >= 10 and age <20:\n",
    "    print(\"good\")\n",
    "elif age>= 20 and age <30:\n",
    "    print(\"great\")\n",
    "elif age>= 30 and age <40:\n",
    "    print(\"exellent\")\n",
    "elif age>= 40 and age <50:\n",
    "    print(\"immersiv\")\n",
    "else:\n",
    "    print(\"try next time\")\n"
   ]
  },
  {
   "cell_type": "code",
   "execution_count": 80,
   "metadata": {},
   "outputs": [
    {
     "name": "stdout",
     "output_type": "stream",
     "text": [
      "your age: 25\n",
      "great\n"
     ]
    }
   ],
   "source": [
    "age = input(\"your age: \")\n",
    "age = int(age)\n",
    "\n",
    "if age >= 10 and age <20:\n",
    "    print(\"good\")\n",
    "elif age>= 20 and age <30:\n",
    "    print(\"great\")\n",
    "elif age>= 30 and age <40:\n",
    "    print(\"exellent\")\n",
    "elif age>= 40 and age <50:\n",
    "    print(\"immersiv\")\n",
    "else:\n",
    "    print(\"try next time\")\n",
    "\n",
    "    "
   ]
  },
  {
   "cell_type": "code",
   "execution_count": 81,
   "metadata": {},
   "outputs": [
    {
     "name": "stdout",
     "output_type": "stream",
     "text": [
      "your age: 20\n",
      "great\n"
     ]
    }
   ],
   "source": [
    "age = input(\"your age: \")\n",
    "age = int(age)\n",
    "\n",
    "if age >= 10 and age <20:\n",
    "    print(\"good\")\n",
    "elif age>= 20 and age <30:\n",
    "    print(\"great\")\n",
    "elif age>= 30 and age <40:\n",
    "    print(\"exellent\")\n",
    "elif age>= 40 and age <50:\n",
    "    print(\"immersiv\")\n",
    "else:\n",
    "    print(\"try next time\")\n"
   ]
  },
  {
   "cell_type": "code",
   "execution_count": 82,
   "metadata": {},
   "outputs": [
    {
     "name": "stdout",
     "output_type": "stream",
     "text": [
      "your age: 35\n",
      "exellent\n"
     ]
    }
   ],
   "source": [
    "age = input(\"your age: \")\n",
    "age = int(age)\n",
    "\n",
    "if age >= 10 and age <20:\n",
    "    print(\"good\")\n",
    "elif age>= 20 and age <30:\n",
    "    print(\"great\")\n",
    "elif age>= 30 and age <40:\n",
    "    print(\"exellent\")\n",
    "elif age>= 40 and age <50:\n",
    "    print(\"immersiv\")\n",
    "else:\n",
    "    print(\"try next time\")\n"
   ]
  },
  {
   "cell_type": "code",
   "execution_count": 83,
   "metadata": {},
   "outputs": [
    {
     "name": "stdout",
     "output_type": "stream",
     "text": [
      "your age: 45\n",
      "immersiv\n"
     ]
    }
   ],
   "source": [
    "age = input(\"your age: \")\n",
    "age = int(age)\n",
    "\n",
    "if age >= 10 and age <20:\n",
    "    print(\"good\")\n",
    "elif age>= 20 and age <30:\n",
    "    print(\"great\")\n",
    "elif age>= 30 and age <40:\n",
    "    print(\"exellent\")\n",
    "elif age>= 40 and age <50:\n",
    "    print(\"immersiv\")\n",
    "else:\n",
    "    print(\"try next time\")\n"
   ]
  },
  {
   "cell_type": "code",
   "execution_count": 84,
   "metadata": {},
   "outputs": [
    {
     "name": "stdout",
     "output_type": "stream",
     "text": [
      "your age: 05\n",
      "try next time\n"
     ]
    }
   ],
   "source": [
    "age = input(\"your age: \")\n",
    "age = int(age)\n",
    "\n",
    "if age >= 10 and age <20:\n",
    "    print(\"good\")\n",
    "elif age>= 20 and age <30:\n",
    "    print(\"great\")\n",
    "elif age>= 30 and age <40:\n",
    "    print(\"exellent\")\n",
    "elif age>= 40 and age <50:\n",
    "    print(\"immersiv\")\n",
    "else:\n",
    "    print(\"try next time\")\n",
    "\n",
    "    "
   ]
  },
  {
   "cell_type": "code",
   "execution_count": 85,
   "metadata": {},
   "outputs": [
    {
     "name": "stdout",
     "output_type": "stream",
     "text": [
      "your age: 015\n",
      "good\n"
     ]
    }
   ],
   "source": [
    "age = input(\"your age: \")\n",
    "age = int(age)\n",
    "\n",
    "if age >= 10 and age <20:\n",
    "    print(\"good\")\n",
    "elif age>= 20 and age <30:\n",
    "    print(\"great\")\n",
    "elif age>= 30 and age <40:\n",
    "    print(\"exellent\")\n",
    "elif age>= 40 and age <50:\n",
    "    print(\"immersiv\")\n",
    "else:\n",
    "    print(\"try next time\")\n"
   ]
  },
  {
   "cell_type": "code",
   "execution_count": 86,
   "metadata": {},
   "outputs": [
    {
     "name": "stdout",
     "output_type": "stream",
     "text": [
      "pin code: 152\n",
      "good\n"
     ]
    }
   ],
   "source": [
    "pin = input(\"pin code: \")\n",
    "pin = int(pin)\n",
    "\n",
    "if pin >= 100 and pin < 200:\n",
    "    print(\"good\")\n",
    "elif pin >= 200 and pin < 300:\n",
    "    print(\"great\")\n",
    "elif pin >= 300 and pin < 400:\n",
    "    print(\"perfect\")\n",
    "elif pin >= 400 and pin < 500:\n",
    "    print(\"immersive\")\n",
    "else:\n",
    "    print(\"create your account\")"
   ]
  },
  {
   "cell_type": "code",
   "execution_count": 87,
   "metadata": {},
   "outputs": [
    {
     "name": "stdout",
     "output_type": "stream",
     "text": [
      "pin code: 200\n",
      "great\n"
     ]
    }
   ],
   "source": [
    "pin = input(\"pin code: \")\n",
    "pin = int(pin)\n",
    "\n",
    "if pin >= 100 and pin < 200:\n",
    "    print(\"good\")\n",
    "elif pin >= 200 and pin < 300:\n",
    "    print(\"great\")\n",
    "elif pin >= 300 and pin < 400:\n",
    "    print(\"perfect\")\n",
    "elif pin >= 400 and pin < 500:\n",
    "    print(\"immersive\")\n",
    "else:\n",
    "    print(\"create your account\")"
   ]
  },
  {
   "cell_type": "code",
   "execution_count": 88,
   "metadata": {},
   "outputs": [
    {
     "name": "stdout",
     "output_type": "stream",
     "text": [
      "pin code: 252\n",
      "great\n"
     ]
    }
   ],
   "source": [
    "pin = input(\"pin code: \")\n",
    "pin = int(pin)\n",
    "\n",
    "if pin >= 100 and pin < 200:\n",
    "    print(\"good\")\n",
    "elif pin >= 200 and pin < 300:\n",
    "    print(\"great\")\n",
    "elif pin >= 300 and pin < 400:\n",
    "    print(\"perfect\")\n",
    "elif pin >= 400 and pin < 500:\n",
    "    print(\"immersive\")\n",
    "else:\n",
    "    print(\"create your account\")"
   ]
  },
  {
   "cell_type": "code",
   "execution_count": 89,
   "metadata": {},
   "outputs": [
    {
     "name": "stdout",
     "output_type": "stream",
     "text": [
      "pin code: 352\n",
      "perfect\n"
     ]
    }
   ],
   "source": [
    "pin = input(\"pin code: \")\n",
    "pin = int(pin)\n",
    "\n",
    "if pin >= 100 and pin < 200:\n",
    "    print(\"good\")\n",
    "elif pin >= 200 and pin < 300:\n",
    "    print(\"great\")\n",
    "elif pin >= 300 and pin < 400:\n",
    "    print(\"perfect\")\n",
    "elif pin >= 400 and pin < 500:\n",
    "    print(\"immersive\")\n",
    "else:\n",
    "    print(\"create your account\")"
   ]
  },
  {
   "cell_type": "code",
   "execution_count": 90,
   "metadata": {},
   "outputs": [
    {
     "name": "stdout",
     "output_type": "stream",
     "text": [
      "pin code: 022\n",
      "create your account\n"
     ]
    }
   ],
   "source": [
    "pin = input(\"pin code: \")\n",
    "pin = int(pin)\n",
    "\n",
    "if pin >= 100 and pin < 200:\n",
    "    print(\"good\")\n",
    "elif pin >= 200 and pin < 300:\n",
    "    print(\"great\")\n",
    "elif pin >= 300 and pin < 400:\n",
    "    print(\"perfect\")\n",
    "elif pin >= 400 and pin < 500:\n",
    "    print(\"immersive\")\n",
    "else:\n",
    "    print(\"create your account\")"
   ]
  },
  {
   "cell_type": "code",
   "execution_count": 94,
   "metadata": {},
   "outputs": [],
   "source": [
    "def code(pin):\n",
    "    pin = int(pin)\n",
    "\n",
    "    if pin >= 100 and pin < 200:\n",
    "        print(\"good\")\n",
    "    elif pin >= 200 and pin < 300:\n",
    "        print(\"great\")\n",
    "    elif pin >= 300 and pin < 400:\n",
    "        print(\"perfect\")\n",
    "    elif pin >= 400 and pin < 500:\n",
    "        print(\"immersive\")\n",
    "    else:\n",
    "        print(\"create your account\")"
   ]
  },
  {
   "cell_type": "code",
   "execution_count": 95,
   "metadata": {},
   "outputs": [
    {
     "name": "stdout",
     "output_type": "stream",
     "text": [
      "good\n"
     ]
    }
   ],
   "source": [
    "code(120)"
   ]
  },
  {
   "cell_type": "code",
   "execution_count": 96,
   "metadata": {},
   "outputs": [
    {
     "name": "stdout",
     "output_type": "stream",
     "text": [
      "create your account\n"
     ]
    }
   ],
   "source": [
    "code(50)"
   ]
  },
  {
   "cell_type": "code",
   "execution_count": 97,
   "metadata": {},
   "outputs": [
    {
     "name": "stdout",
     "output_type": "stream",
     "text": [
      "create your account\n"
     ]
    }
   ],
   "source": [
    "code(500)"
   ]
  },
  {
   "cell_type": "code",
   "execution_count": 98,
   "metadata": {},
   "outputs": [
    {
     "name": "stdout",
     "output_type": "stream",
     "text": [
      "immersive\n"
     ]
    }
   ],
   "source": [
    "code(499)"
   ]
  },
  {
   "cell_type": "code",
   "execution_count": 99,
   "metadata": {},
   "outputs": [
    {
     "name": "stdout",
     "output_type": "stream",
     "text": [
      "good\n"
     ]
    }
   ],
   "source": [
    "code(155)"
   ]
  },
  {
   "cell_type": "code",
   "execution_count": 100,
   "metadata": {},
   "outputs": [
    {
     "name": "stdout",
     "output_type": "stream",
     "text": [
      "great\n"
     ]
    }
   ],
   "source": [
    "code(259)"
   ]
  },
  {
   "cell_type": "code",
   "execution_count": 101,
   "metadata": {},
   "outputs": [],
   "source": [
    "# new setup"
   ]
  },
  {
   "cell_type": "code",
   "execution_count": 104,
   "metadata": {},
   "outputs": [
    {
     "name": "stdout",
     "output_type": "stream",
     "text": [
      "not valid\n"
     ]
    }
   ],
   "source": [
    "def login(user,password):\n",
    "    if user.lower()==\"admin\" and password.lower()==\"admin\":\n",
    "        print(\"welocme\")\n",
    "    else:\n",
    "        print(\"not valid\")\n",
    "        \n",
    "login('taha','123')\n",
    "    "
   ]
  },
  {
   "cell_type": "code",
   "execution_count": 105,
   "metadata": {},
   "outputs": [
    {
     "name": "stdout",
     "output_type": "stream",
     "text": [
      "welcome\n"
     ]
    }
   ],
   "source": [
    "def login(user,password):\n",
    "    if user.lower()==\"admin\" and password.lower()==\"admin\":\n",
    "        print(\"welcome\")\n",
    "    else:\n",
    "        print(\"not valid\")\n",
    "        \n",
    "login('admin','admin')"
   ]
  },
  {
   "cell_type": "code",
   "execution_count": 106,
   "metadata": {},
   "outputs": [
    {
     "name": "stdout",
     "output_type": "stream",
     "text": [
      "not valid\n"
     ]
    }
   ],
   "source": [
    "login('taha',25)"
   ]
  },
  {
   "cell_type": "code",
   "execution_count": 107,
   "metadata": {},
   "outputs": [
    {
     "name": "stdout",
     "output_type": "stream",
     "text": [
      "welcome\n"
     ]
    }
   ],
   "source": [
    "login('admin','Admin')"
   ]
  },
  {
   "cell_type": "code",
   "execution_count": 108,
   "metadata": {},
   "outputs": [
    {
     "name": "stdout",
     "output_type": "stream",
     "text": [
      "welcome\n"
     ]
    }
   ],
   "source": [
    "login('AdmiN','aDmiN')"
   ]
  },
  {
   "cell_type": "code",
   "execution_count": 130,
   "metadata": {},
   "outputs": [],
   "source": [
    "def signup():\n",
    "    user = input(\"user: \")\n",
    "    password = input(\"password: \")\n",
    "    dep = input(\"your departmant: \")\n",
    "    \n",
    "    if (user=='admin') and (password=='admin') and (dep=='accounted'or dep=='managment' or dep=='fin'):\n",
    "        print(\"welcome\")\n",
    "    else:\n",
    "        print(\"not valid\")\n",
    "    \n"
   ]
  },
  {
   "cell_type": "code",
   "execution_count": 114,
   "metadata": {},
   "outputs": [
    {
     "name": "stdout",
     "output_type": "stream",
     "text": [
      "user: admin\n",
      "password: admin\n",
      "your departmant: fin\n",
      "welcome\n"
     ]
    }
   ],
   "source": [
    "auth()"
   ]
  },
  {
   "cell_type": "code",
   "execution_count": 115,
   "metadata": {},
   "outputs": [
    {
     "name": "stdout",
     "output_type": "stream",
     "text": [
      "user: Admin\n",
      "password: admin\n",
      "your departmant: ACC\n",
      "not valid\n"
     ]
    }
   ],
   "source": [
    "auth()"
   ]
  },
  {
   "cell_type": "code",
   "execution_count": 116,
   "metadata": {},
   "outputs": [
    {
     "name": "stdout",
     "output_type": "stream",
     "text": [
      "user: taha\n",
      "password: admin\n",
      "your departmant: admin\n",
      "not valid\n"
     ]
    }
   ],
   "source": [
    "auth()"
   ]
  },
  {
   "cell_type": "code",
   "execution_count": 127,
   "metadata": {},
   "outputs": [],
   "source": [
    "def signin():\n",
    "    user = input(\"email address: \")\n",
    "    password = input(\"password: \")\n",
    "    dep = input(\"enter your department name: \")\n",
    "    if (user=='beatsaudiomtk16@gmail.com') and (password=='tahakhan') and (dep=='acc' or dep=='manag'or dep=='fin'):\n",
    "        print(\"welcome dear\")\n",
    "    else:\n",
    "        print(\"not valid person\")\n",
    "        "
   ]
  },
  {
   "cell_type": "code",
   "execution_count": 121,
   "metadata": {},
   "outputs": [
    {
     "name": "stdout",
     "output_type": "stream",
     "text": [
      "email address: beatsaudiomtk16@gmail.com\n",
      "password: tahakhan\n",
      "enter your department name: acc\n",
      "welcome dear\n"
     ]
    }
   ],
   "source": [
    "auth()"
   ]
  },
  {
   "cell_type": "code",
   "execution_count": 124,
   "metadata": {},
   "outputs": [],
   "source": [
    "def auth():\n",
    "    user = input(\"user name: \")\n",
    "    pin = input(\"pin code: \")\n",
    "    age = input(\"your age\")\n",
    "    \n",
    "    if (user=='admin' and pin=='111' and age=='20'):\n",
    "        print(\"welcome dear :) : \")\n",
    "    else:\n",
    "        print(\"try next time:) : \")"
   ]
  },
  {
   "cell_type": "code",
   "execution_count": 125,
   "metadata": {},
   "outputs": [
    {
     "name": "stdout",
     "output_type": "stream",
     "text": [
      "user name: admin\n",
      "pin code: 111\n",
      "your age20\n",
      "welcome dear :) : \n"
     ]
    }
   ],
   "source": [
    "auth()"
   ]
  },
  {
   "cell_type": "code",
   "execution_count": 126,
   "metadata": {},
   "outputs": [
    {
     "name": "stdout",
     "output_type": "stream",
     "text": [
      "user name: admin\n",
      "pin code: taha\n",
      "your age20\n",
      "try next time:) : \n"
     ]
    }
   ],
   "source": [
    "auth()"
   ]
  },
  {
   "cell_type": "code",
   "execution_count": 128,
   "metadata": {},
   "outputs": [
    {
     "name": "stdout",
     "output_type": "stream",
     "text": [
      "email address: beatsaudiomtk16@gmail.com\n",
      "password: tahakhan\n",
      "enter your department name: fin\n",
      "welcome dear\n"
     ]
    }
   ],
   "source": [
    "signin()"
   ]
  },
  {
   "cell_type": "code",
   "execution_count": 129,
   "metadata": {},
   "outputs": [
    {
     "name": "stdout",
     "output_type": "stream",
     "text": [
      "user name: admin\n",
      "pin code: 111\n",
      "your age20\n",
      "welcome dear :) : \n"
     ]
    }
   ],
   "source": [
    "auth()"
   ]
  },
  {
   "cell_type": "code",
   "execution_count": 132,
   "metadata": {},
   "outputs": [
    {
     "name": "stdout",
     "output_type": "stream",
     "text": [
      "user: admin\n",
      "password: admin\n",
      "your departmant: fin\n",
      "welcome\n"
     ]
    }
   ],
   "source": [
    "signup()"
   ]
  },
  {
   "cell_type": "code",
   "execution_count": 133,
   "metadata": {},
   "outputs": [
    {
     "name": "stdout",
     "output_type": "stream",
     "text": [
      "user name: admin\n",
      "pin code: admin\n",
      "your agefin\n",
      "try next time:) : \n"
     ]
    }
   ],
   "source": [
    "auth()"
   ]
  },
  {
   "cell_type": "code",
   "execution_count": 134,
   "metadata": {},
   "outputs": [
    {
     "name": "stdout",
     "output_type": "stream",
     "text": [
      "user name: admin\n",
      "pin code: admin\n",
      "your age20\n",
      "try next time:) : \n"
     ]
    }
   ],
   "source": [
    "auth()"
   ]
  },
  {
   "cell_type": "code",
   "execution_count": 135,
   "metadata": {},
   "outputs": [
    {
     "name": "stdout",
     "output_type": "stream",
     "text": [
      "user name: admin\n",
      "pin code: 111\n",
      "your age20\n",
      "welcome dear :) : \n"
     ]
    }
   ],
   "source": [
    "auth()"
   ]
  },
  {
   "cell_type": "code",
   "execution_count": 136,
   "metadata": {},
   "outputs": [
    {
     "data": {
      "text/plain": [
       "<function __main__.signin()>"
      ]
     },
     "execution_count": 136,
     "metadata": {},
     "output_type": "execute_result"
    }
   ],
   "source": [
    "signin"
   ]
  },
  {
   "cell_type": "code",
   "execution_count": 137,
   "metadata": {},
   "outputs": [
    {
     "name": "stdout",
     "output_type": "stream",
     "text": [
      "email address: taha\n",
      "password: admin\n",
      "enter your department name: ad\n",
      "not valid person\n"
     ]
    }
   ],
   "source": [
    "signin()"
   ]
  },
  {
   "cell_type": "code",
   "execution_count": 138,
   "metadata": {},
   "outputs": [
    {
     "name": "stdout",
     "output_type": "stream",
     "text": [
      "user name: admin\n",
      "pin code: 111\n",
      "your age20\n",
      "welcome dear :) : \n"
     ]
    }
   ],
   "source": [
    "auth()"
   ]
  },
  {
   "cell_type": "code",
   "execution_count": 139,
   "metadata": {},
   "outputs": [
    {
     "name": "stdout",
     "output_type": "stream",
     "text": [
      "user name: admin\n",
      "pin code: 111\n",
      "your age20\n",
      "welcome dear :) : \n"
     ]
    }
   ],
   "source": [
    "auth()"
   ]
  },
  {
   "cell_type": "code",
   "execution_count": 141,
   "metadata": {},
   "outputs": [
    {
     "name": "stdout",
     "output_type": "stream",
     "text": [
      "mature\n"
     ]
    }
   ],
   "source": [
    "grade(20)"
   ]
  },
  {
   "cell_type": "code",
   "execution_count": 142,
   "metadata": {},
   "outputs": [
    {
     "name": "stdout",
     "output_type": "stream",
     "text": [
      "adult\n"
     ]
    }
   ],
   "source": [
    "grade(15)"
   ]
  },
  {
   "cell_type": "code",
   "execution_count": 145,
   "metadata": {},
   "outputs": [],
   "source": [
    "def action():\n",
    "    name = input(\"enter name: \")\n",
    "    code = input(\"enter your pin: \")\n",
    "    city = input(\"city name: \")\n",
    "    \n",
    "    if (name=='taha khan') and (code=='1234') and (city=='karachi' or city=='hydrabad'):\n",
    "        print(\"welcome\")\n",
    "    else:MTK\n",
    "        print(\"try next time\")"
   ]
  },
  {
   "cell_type": "code",
   "execution_count": 146,
   "metadata": {},
   "outputs": [
    {
     "name": "stdout",
     "output_type": "stream",
     "text": [
      "enter name: taha khan\n",
      "enter your pin: 123\n",
      "city name: karachi\n",
      "try next time\n"
     ]
    }
   ],
   "source": [
    "action()"
   ]
  },
  {
   "cell_type": "code",
   "execution_count": 147,
   "metadata": {},
   "outputs": [
    {
     "name": "stdout",
     "output_type": "stream",
     "text": [
      "enter name: taha khan\n",
      "enter your pin: 1234\n",
      "city name: karachi\n",
      "welcome\n"
     ]
    }
   ],
   "source": [
    "action()"
   ]
  },
  {
   "cell_type": "code",
   "execution_count": 148,
   "metadata": {},
   "outputs": [
    {
     "name": "stdout",
     "output_type": "stream",
     "text": [
      "enter name: taha khan\n",
      "enter your pin: 1234\n",
      "city name: hydrabad\n",
      "welcome\n"
     ]
    }
   ],
   "source": [
    "action()"
   ]
  },
  {
   "cell_type": "code",
   "execution_count": 153,
   "metadata": {},
   "outputs": [],
   "source": [
    "def agent():\n",
    "    agent = input(\"enter your name: \")\n",
    "    code = input(\"enter your code: \")\n",
    "    pin = input(\"enter your pin: \")\n",
    "    \n",
    "    if (agent=='MTK') and (code=='MTK16') and (pin=='111'):\n",
    "        print(\"welcome agent MR.MTK\")\n",
    "    else:\n",
    "        print(\"stay away befor you involve in problems\")"
   ]
  },
  {
   "cell_type": "code",
   "execution_count": 154,
   "metadata": {},
   "outputs": [
    {
     "name": "stdout",
     "output_type": "stream",
     "text": [
      "enter your name: mtk\n",
      "enter your code: mtk16\n",
      "enter your pin: 111\n",
      "stay away befor you involve in problems\n"
     ]
    }
   ],
   "source": [
    "agent()"
   ]
  },
  {
   "cell_type": "code",
   "execution_count": 155,
   "metadata": {},
   "outputs": [
    {
     "name": "stdout",
     "output_type": "stream",
     "text": [
      "enter your name: MTK\n",
      "enter your code: MTK16\n",
      "enter your pin: 111\n",
      "welcome agent MR.MTK\n"
     ]
    }
   ],
   "source": [
    "agent()"
   ]
  },
  {
   "cell_type": "code",
   "execution_count": 156,
   "metadata": {},
   "outputs": [
    {
     "name": "stdout",
     "output_type": "stream",
     "text": [
      "enter name: \n",
      "enter your pin: \n",
      "city name: \n",
      "try next time\n"
     ]
    }
   ],
   "source": [
    "action()"
   ]
  },
  {
   "cell_type": "code",
   "execution_count": null,
   "metadata": {},
   "outputs": [],
   "source": []
  }
 ],
 "metadata": {
  "kernelspec": {
   "display_name": "Python 3",
   "language": "python",
   "name": "python3"
  },
  "language_info": {
   "codemirror_mode": {
    "name": "ipython",
    "version": 3
   },
   "file_extension": ".py",
   "mimetype": "text/x-python",
   "name": "python",
   "nbconvert_exporter": "python",
   "pygments_lexer": "ipython3",
   "version": "3.6.5"
  }
 },
 "nbformat": 4,
 "nbformat_minor": 2
}
