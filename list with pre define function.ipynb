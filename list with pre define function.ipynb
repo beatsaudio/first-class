{
 "cells": [
  {
   "cell_type": "markdown",
   "metadata": {},
   "source": [
    "# list with pre define functions\n",
    "- slicing\n",
    "- apeend\n",
    "- pop\n",
    "- remove\n",
    "- insert"
   ]
  },
  {
   "cell_type": "markdown",
   "metadata": {},
   "source": [
    "# list"
   ]
  },
  {
   "cell_type": "code",
   "execution_count": 5,
   "metadata": {},
   "outputs": [
    {
     "data": {
      "text/plain": [
       "['zubair', 'taha', 'khan', 'junaid', 'adil', 'zeeshan', 'ebad', 'ashraf']"
      ]
     },
     "execution_count": 5,
     "metadata": {},
     "output_type": "execute_result"
    }
   ],
   "source": [
    "names = ['zubair','taha','khan','junaid','adil','zeeshan','ebad','ashraf']\n",
    "names"
   ]
  },
  {
   "cell_type": "code",
   "execution_count": 6,
   "metadata": {},
   "outputs": [
    {
     "data": {
      "text/plain": [
       "[21, 20, 22, 23, 24, 25, 26, 27, 28]"
      ]
     },
     "execution_count": 6,
     "metadata": {},
     "output_type": "execute_result"
    }
   ],
   "source": [
    "ages = [21,20,22,23,24,25,26,27,28]\n",
    "ages"
   ]
  },
  {
   "cell_type": "code",
   "execution_count": 7,
   "metadata": {},
   "outputs": [
    {
     "data": {
      "text/plain": [
       "['hamza',\n",
       " 29,\n",
       " True,\n",
       " 20.22,\n",
       " ['zubair', 'taha', 'khan', 'junaid', 'adil', 'zeeshan', 'ebad', 'ashraf']]"
      ]
     },
     "execution_count": 7,
     "metadata": {},
     "output_type": "execute_result"
    }
   ],
   "source": [
    "l = ['hamza',29,True,20.22,names]\n",
    "l"
   ]
  },
  {
   "cell_type": "code",
   "execution_count": 9,
   "metadata": {},
   "outputs": [
    {
     "data": {
      "text/plain": [
       "['characters',\n",
       " ['zubair', 'taha', 'khan', 'junaid', 'adil', 'zeeshan', 'ebad', 'ashraf'],\n",
       " [21, 20, 22, 23, 24, 25, 26, 27, 28]]"
      ]
     },
     "execution_count": 9,
     "metadata": {},
     "output_type": "execute_result"
    }
   ],
   "source": [
    "l = ['characters',names,ages]\n",
    "l"
   ]
  },
  {
   "cell_type": "markdown",
   "metadata": {},
   "source": [
    "# slicing"
   ]
  },
  {
   "cell_type": "code",
   "execution_count": 10,
   "metadata": {},
   "outputs": [
    {
     "data": {
      "text/plain": [
       "['zubair', 'taha', 'khan', 'junaid', 'adil', 'zeeshan', 'ebad', 'ashraf']"
      ]
     },
     "execution_count": 10,
     "metadata": {},
     "output_type": "execute_result"
    }
   ],
   "source": [
    "names"
   ]
  },
  {
   "cell_type": "code",
   "execution_count": 11,
   "metadata": {},
   "outputs": [
    {
     "name": "stdout",
     "output_type": "stream",
     "text": [
      "ebad\n"
     ]
    }
   ],
   "source": [
    "print(names[-2])"
   ]
  },
  {
   "cell_type": "code",
   "execution_count": 12,
   "metadata": {},
   "outputs": [
    {
     "data": {
      "text/plain": [
       "'zeeshan'"
      ]
     },
     "execution_count": 12,
     "metadata": {},
     "output_type": "execute_result"
    }
   ],
   "source": [
    "names[-3]"
   ]
  },
  {
   "cell_type": "code",
   "execution_count": 13,
   "metadata": {},
   "outputs": [
    {
     "data": {
      "text/plain": [
       "'junaid'"
      ]
     },
     "execution_count": 13,
     "metadata": {},
     "output_type": "execute_result"
    }
   ],
   "source": [
    "names[3]"
   ]
  },
  {
   "cell_type": "code",
   "execution_count": 16,
   "metadata": {},
   "outputs": [
    {
     "data": {
      "text/plain": [
       "['khan', 'junaid', 'adil']"
      ]
     },
     "execution_count": 16,
     "metadata": {},
     "output_type": "execute_result"
    }
   ],
   "source": [
    "names[2:5]\n"
   ]
  },
  {
   "cell_type": "code",
   "execution_count": 17,
   "metadata": {},
   "outputs": [
    {
     "data": {
      "text/plain": [
       "['zubair', 'khan', 'adil', 'ebad']"
      ]
     },
     "execution_count": 17,
     "metadata": {},
     "output_type": "execute_result"
    }
   ],
   "source": [
    "names[::2]"
   ]
  },
  {
   "cell_type": "code",
   "execution_count": 18,
   "metadata": {},
   "outputs": [
    {
     "data": {
      "text/plain": [
       "['zubair', 'taha']"
      ]
     },
     "execution_count": 18,
     "metadata": {},
     "output_type": "execute_result"
    }
   ],
   "source": [
    "names[:2]"
   ]
  },
  {
   "cell_type": "code",
   "execution_count": 19,
   "metadata": {},
   "outputs": [
    {
     "data": {
      "text/plain": [
       "['zubair', 'taha', 'khan', 'junaid', 'adil']"
      ]
     },
     "execution_count": 19,
     "metadata": {},
     "output_type": "execute_result"
    }
   ],
   "source": [
    "names[:5]"
   ]
  },
  {
   "cell_type": "code",
   "execution_count": 20,
   "metadata": {},
   "outputs": [
    {
     "data": {
      "text/plain": [
       "['khan', 'junaid', 'adil', 'zeeshan', 'ebad', 'ashraf']"
      ]
     },
     "execution_count": 20,
     "metadata": {},
     "output_type": "execute_result"
    }
   ],
   "source": [
    "names[2:]"
   ]
  },
  {
   "cell_type": "code",
   "execution_count": 21,
   "metadata": {},
   "outputs": [],
   "source": [
    "students = names"
   ]
  },
  {
   "cell_type": "code",
   "execution_count": 22,
   "metadata": {},
   "outputs": [
    {
     "data": {
      "text/plain": [
       "['zubair', 'taha', 'khan', 'junaid', 'adil', 'zeeshan', 'ebad', 'ashraf']"
      ]
     },
     "execution_count": 22,
     "metadata": {},
     "output_type": "execute_result"
    }
   ],
   "source": [
    "students"
   ]
  },
  {
   "cell_type": "code",
   "execution_count": 23,
   "metadata": {},
   "outputs": [
    {
     "data": {
      "text/plain": [
       "['zubair', 'hamza', 'khan', 'junaid', 'adil', 'zeeshan', 'ebad', 'ashraf']"
      ]
     },
     "execution_count": 23,
     "metadata": {},
     "output_type": "execute_result"
    }
   ],
   "source": [
    "students[1]=\"hamza\"\n",
    "students"
   ]
  },
  {
   "cell_type": "code",
   "execution_count": 24,
   "metadata": {},
   "outputs": [
    {
     "data": {
      "text/plain": [
       "['zubair', 'hamza', 'khan', 'junaid', 'adil', 'zeeshan', 'ebad', 'ashraf']"
      ]
     },
     "execution_count": 24,
     "metadata": {},
     "output_type": "execute_result"
    }
   ],
   "source": [
    "names"
   ]
  },
  {
   "cell_type": "code",
   "execution_count": 25,
   "metadata": {},
   "outputs": [
    {
     "data": {
      "text/plain": [
       "2530946796264"
      ]
     },
     "execution_count": 25,
     "metadata": {},
     "output_type": "execute_result"
    }
   ],
   "source": [
    "id(names[1])"
   ]
  },
  {
   "cell_type": "code",
   "execution_count": 26,
   "metadata": {},
   "outputs": [
    {
     "data": {
      "text/plain": [
       "2530946796264"
      ]
     },
     "execution_count": 26,
     "metadata": {},
     "output_type": "execute_result"
    }
   ],
   "source": [
    "id(students[1])"
   ]
  },
  {
   "cell_type": "code",
   "execution_count": 27,
   "metadata": {},
   "outputs": [
    {
     "data": {
      "text/plain": [
       "['zubair', 'MTK', 'khan', 'junaid', 'adil', 'zeeshan', 'ebad', 'ashraf']"
      ]
     },
     "execution_count": 27,
     "metadata": {},
     "output_type": "execute_result"
    }
   ],
   "source": [
    "new_students = names[:]\n",
    "new_students[1]=\"MTK\"\n",
    "new_students"
   ]
  },
  {
   "cell_type": "code",
   "execution_count": 28,
   "metadata": {},
   "outputs": [
    {
     "data": {
      "text/plain": [
       "['zubair', 'hamza', 'khan', 'junaid', 'adil', 'zeeshan', 'ebad', 'ashraf']"
      ]
     },
     "execution_count": 28,
     "metadata": {},
     "output_type": "execute_result"
    }
   ],
   "source": [
    "students"
   ]
  },
  {
   "cell_type": "code",
   "execution_count": 30,
   "metadata": {},
   "outputs": [
    {
     "data": {
      "text/plain": [
       "2530946796264"
      ]
     },
     "execution_count": 30,
     "metadata": {},
     "output_type": "execute_result"
    }
   ],
   "source": [
    "id(students[1])"
   ]
  },
  {
   "cell_type": "code",
   "execution_count": 31,
   "metadata": {},
   "outputs": [
    {
     "data": {
      "text/plain": [
       "2530946796264"
      ]
     },
     "execution_count": 31,
     "metadata": {},
     "output_type": "execute_result"
    }
   ],
   "source": [
    "id(names[1])"
   ]
  },
  {
   "cell_type": "code",
   "execution_count": 32,
   "metadata": {},
   "outputs": [
    {
     "data": {
      "text/plain": [
       "2530946845640"
      ]
     },
     "execution_count": 32,
     "metadata": {},
     "output_type": "execute_result"
    }
   ],
   "source": [
    "id(new_students[1])"
   ]
  },
  {
   "cell_type": "code",
   "execution_count": 33,
   "metadata": {},
   "outputs": [
    {
     "data": {
      "text/plain": [
       "['zubair',\n",
       " 'h',\n",
       " 'a',\n",
       " 'm',\n",
       " 'z',\n",
       " 'a',\n",
       " 'junaid',\n",
       " 'adil',\n",
       " 'zeeshan',\n",
       " 'ebad',\n",
       " 'ashraf']"
      ]
     },
     "execution_count": 33,
     "metadata": {},
     "output_type": "execute_result"
    }
   ],
   "source": [
    "new_students[1:3]=\"hamza\"\n",
    "new_students"
   ]
  },
  {
   "cell_type": "code",
   "execution_count": 34,
   "metadata": {},
   "outputs": [
    {
     "data": {
      "text/plain": [
       "['zubair',\n",
       " 'h',\n",
       " 'taha',\n",
       " 'm',\n",
       " 'z',\n",
       " 'a',\n",
       " 'junaid',\n",
       " 'adil',\n",
       " 'zeeshan',\n",
       " 'ebad',\n",
       " 'ashraf']"
      ]
     },
     "execution_count": 34,
     "metadata": {},
     "output_type": "execute_result"
    }
   ],
   "source": [
    "new_students[2]=\"taha\"\n",
    "new_students"
   ]
  },
  {
   "cell_type": "code",
   "execution_count": 36,
   "metadata": {},
   "outputs": [],
   "source": [
    "new_students[1]=\"moiz\""
   ]
  },
  {
   "cell_type": "code",
   "execution_count": 37,
   "metadata": {},
   "outputs": [],
   "source": [
    "new_students[3]=\"shehzad\""
   ]
  },
  {
   "cell_type": "code",
   "execution_count": 38,
   "metadata": {},
   "outputs": [],
   "source": [
    "new_students[4]=\"asif\""
   ]
  },
  {
   "cell_type": "code",
   "execution_count": 41,
   "metadata": {},
   "outputs": [],
   "source": [
    "new_students[5]=\"khan\""
   ]
  },
  {
   "cell_type": "code",
   "execution_count": 42,
   "metadata": {},
   "outputs": [
    {
     "data": {
      "text/plain": [
       "['zubair',\n",
       " 'moiz',\n",
       " 'taha',\n",
       " 'shehzad',\n",
       " 'asif',\n",
       " 'khan',\n",
       " 'junaid',\n",
       " 'adil',\n",
       " 'zeeshan',\n",
       " 'ebad',\n",
       " 'ashraf']"
      ]
     },
     "execution_count": 42,
     "metadata": {},
     "output_type": "execute_result"
    }
   ],
   "source": [
    "new_students"
   ]
  },
  {
   "cell_type": "code",
   "execution_count": 45,
   "metadata": {},
   "outputs": [],
   "source": [
    "names[1:3]=\"0\""
   ]
  },
  {
   "cell_type": "code",
   "execution_count": 46,
   "metadata": {},
   "outputs": [
    {
     "data": {
      "text/plain": [
       "['zubair', '0', 'junaid', 'adil', 'zeeshan', 'ebad', 'ashraf']"
      ]
     },
     "execution_count": 46,
     "metadata": {},
     "output_type": "execute_result"
    }
   ],
   "source": [
    "names"
   ]
  },
  {
   "cell_type": "code",
   "execution_count": 47,
   "metadata": {},
   "outputs": [
    {
     "data": {
      "text/plain": [
       "'zeeshan'"
      ]
     },
     "execution_count": 47,
     "metadata": {},
     "output_type": "execute_result"
    }
   ],
   "source": [
    "names[-3]"
   ]
  },
  {
   "cell_type": "markdown",
   "metadata": {},
   "source": [
    "# list pre define functions"
   ]
  },
  {
   "cell_type": "code",
   "execution_count": 48,
   "metadata": {},
   "outputs": [
    {
     "data": {
      "text/plain": [
       "['zubair', '0', 'junaid', 'adil', 'zeeshan', 'ebad', 'ashraf']"
      ]
     },
     "execution_count": 48,
     "metadata": {},
     "output_type": "execute_result"
    }
   ],
   "source": [
    "names"
   ]
  },
  {
   "cell_type": "code",
   "execution_count": 49,
   "metadata": {},
   "outputs": [
    {
     "data": {
      "text/plain": [
       "['zubair',\n",
       " '0',\n",
       " 'junaid',\n",
       " 'adil',\n",
       " 'zeeshan',\n",
       " 'ebad',\n",
       " 'ashraf',\n",
       " 'rashid',\n",
       " 'sohail',\n",
       " 'afzal',\n",
       " 'imran']"
      ]
     },
     "execution_count": 49,
     "metadata": {},
     "output_type": "execute_result"
    }
   ],
   "source": [
    "names +=['rashid','sohail','afzal','imran']\n",
    "names"
   ]
  },
  {
   "cell_type": "code",
   "execution_count": 50,
   "metadata": {},
   "outputs": [
    {
     "data": {
      "text/plain": [
       "['zubair',\n",
       " '0',\n",
       " 'junaid',\n",
       " 'adil',\n",
       " 'zeeshan',\n",
       " 'ebad',\n",
       " 'ashraf',\n",
       " 'rashid',\n",
       " 'sohail',\n",
       " 'afzal',\n",
       " 'imran']"
      ]
     },
     "execution_count": 50,
     "metadata": {},
     "output_type": "execute_result"
    }
   ],
   "source": [
    "names"
   ]
  },
  {
   "cell_type": "code",
   "execution_count": 52,
   "metadata": {},
   "outputs": [
    {
     "data": {
      "text/plain": [
       "['zubair',\n",
       " 'moiz',\n",
       " 'taha',\n",
       " 'shehzad',\n",
       " 'asif',\n",
       " 'khan',\n",
       " 'junaid',\n",
       " 'adil',\n",
       " 'zeeshan',\n",
       " 'ebad',\n",
       " 'ashraf']"
      ]
     },
     "execution_count": 52,
     "metadata": {},
     "output_type": "execute_result"
    }
   ],
   "source": [
    "new_students"
   ]
  },
  {
   "cell_type": "code",
   "execution_count": 53,
   "metadata": {},
   "outputs": [],
   "source": [
    "new_students[1]=\"sohail\""
   ]
  },
  {
   "cell_type": "code",
   "execution_count": 54,
   "metadata": {},
   "outputs": [
    {
     "data": {
      "text/plain": [
       "['zubair',\n",
       " 'sohail',\n",
       " 'taha',\n",
       " 'shehzad',\n",
       " 'asif',\n",
       " 'khan',\n",
       " 'junaid',\n",
       " 'adil',\n",
       " 'zeeshan',\n",
       " 'ebad',\n",
       " 'ashraf']"
      ]
     },
     "execution_count": 54,
     "metadata": {},
     "output_type": "execute_result"
    }
   ],
   "source": [
    "new_students"
   ]
  },
  {
   "cell_type": "code",
   "execution_count": 56,
   "metadata": {},
   "outputs": [],
   "source": [
    "new_students[0]=\"shiekh\""
   ]
  },
  {
   "cell_type": "code",
   "execution_count": 57,
   "metadata": {},
   "outputs": [
    {
     "data": {
      "text/plain": [
       "['shiekh',\n",
       " 'sohail',\n",
       " 'taha',\n",
       " 'shehzad',\n",
       " 'asif',\n",
       " 'khan',\n",
       " 'junaid',\n",
       " 'adil',\n",
       " 'zeeshan',\n",
       " 'ebad',\n",
       " 'ashraf']"
      ]
     },
     "execution_count": 57,
     "metadata": {},
     "output_type": "execute_result"
    }
   ],
   "source": [
    "new_students"
   ]
  },
  {
   "cell_type": "code",
   "execution_count": 58,
   "metadata": {},
   "outputs": [
    {
     "data": {
      "text/plain": [
       "['zubair',\n",
       " '0',\n",
       " 'junaid',\n",
       " 'adil',\n",
       " 'zeeshan',\n",
       " 'ebad',\n",
       " 'ashraf',\n",
       " 'rashid',\n",
       " 'sohail',\n",
       " 'afzal',\n",
       " 'imran']"
      ]
     },
     "execution_count": 58,
     "metadata": {},
     "output_type": "execute_result"
    }
   ],
   "source": [
    "names"
   ]
  },
  {
   "cell_type": "code",
   "execution_count": 59,
   "metadata": {},
   "outputs": [
    {
     "data": {
      "text/plain": [
       "['zubair',\n",
       " '0',\n",
       " 'junaid',\n",
       " 'adil',\n",
       " 'zeeshan',\n",
       " 'ebad',\n",
       " 'ashraf',\n",
       " 'rashid',\n",
       " 'sohail',\n",
       " 'afzal',\n",
       " 'imran',\n",
       " 'hassan']"
      ]
     },
     "execution_count": 59,
     "metadata": {},
     "output_type": "execute_result"
    }
   ],
   "source": [
    "names.append('hassan')\n",
    "names"
   ]
  },
  {
   "cell_type": "code",
   "execution_count": 60,
   "metadata": {},
   "outputs": [
    {
     "data": {
      "text/plain": [
       "['ali',\n",
       " 'zubair',\n",
       " '0',\n",
       " 'abid khan',\n",
       " 'junaid',\n",
       " 'adil',\n",
       " 'zeeshan',\n",
       " 'ebad',\n",
       " 'ashraf',\n",
       " 'rashid',\n",
       " 'sohail',\n",
       " 'afzal',\n",
       " 'imran',\n",
       " 'hassan']"
      ]
     },
     "execution_count": 60,
     "metadata": {},
     "output_type": "execute_result"
    }
   ],
   "source": [
    "names.insert(0,\"ali\")\n",
    "names.insert(3,\"abid khan\")\n",
    "names"
   ]
  },
  {
   "cell_type": "code",
   "execution_count": 63,
   "metadata": {},
   "outputs": [
    {
     "data": {
      "text/plain": [
       "['khurram',\n",
       " 'khurram',\n",
       " 'ali',\n",
       " 'zubair',\n",
       " '0',\n",
       " 'abid khan',\n",
       " 'junaid',\n",
       " 'adil',\n",
       " 'zeeshan',\n",
       " 'ebad',\n",
       " 'ashraf',\n",
       " 'rashid',\n",
       " 'sohail',\n",
       " 'afzal',\n",
       " 'imran',\n",
       " 'hassan']"
      ]
     },
     "execution_count": 63,
     "metadata": {},
     "output_type": "execute_result"
    }
   ],
   "source": [
    "names.insert(0,\"khurram\")\n",
    "names"
   ]
  },
  {
   "cell_type": "code",
   "execution_count": 65,
   "metadata": {},
   "outputs": [
    {
     "data": {
      "text/plain": [
       "['azim',\n",
       " 'khurram',\n",
       " 'ali',\n",
       " 'zubair',\n",
       " '0',\n",
       " 'abid khan',\n",
       " 'junaid',\n",
       " 'adil',\n",
       " 'zeeshan',\n",
       " 'ebad',\n",
       " 'ashraf',\n",
       " 'rashid',\n",
       " 'sohail',\n",
       " 'afzal',\n",
       " 'imran',\n",
       " 'hassan']"
      ]
     },
     "execution_count": 65,
     "metadata": {},
     "output_type": "execute_result"
    }
   ],
   "source": [
    "names[0]=\"azim\"\n",
    "names"
   ]
  },
  {
   "cell_type": "code",
   "execution_count": 72,
   "metadata": {
    "scrolled": true
   },
   "outputs": [
    {
     "data": {
      "text/plain": [
       "'rashid'"
      ]
     },
     "execution_count": 72,
     "metadata": {},
     "output_type": "execute_result"
    }
   ],
   "source": [
    "names.pop()"
   ]
  },
  {
   "cell_type": "code",
   "execution_count": 73,
   "metadata": {},
   "outputs": [
    {
     "data": {
      "text/plain": [
       "['azim',\n",
       " 'khurram',\n",
       " 'ali',\n",
       " 'zubair',\n",
       " '0',\n",
       " 'abid khan',\n",
       " 'junaid',\n",
       " 'adil',\n",
       " 'zeeshan',\n",
       " 'ebad',\n",
       " 'ashraf']"
      ]
     },
     "execution_count": 73,
     "metadata": {},
     "output_type": "execute_result"
    }
   ],
   "source": [
    "names"
   ]
  },
  {
   "cell_type": "code",
   "execution_count": 74,
   "metadata": {},
   "outputs": [
    {
     "data": {
      "text/plain": [
       "['azim',\n",
       " 'khurram',\n",
       " 'ali',\n",
       " 'zubair',\n",
       " 'abid khan',\n",
       " 'junaid',\n",
       " 'adil',\n",
       " 'zeeshan',\n",
       " 'ebad',\n",
       " 'ashraf']"
      ]
     },
     "execution_count": 74,
     "metadata": {},
     "output_type": "execute_result"
    }
   ],
   "source": [
    "names.remove('0')\n",
    "names"
   ]
  },
  {
   "cell_type": "code",
   "execution_count": 76,
   "metadata": {},
   "outputs": [
    {
     "data": {
      "text/plain": [
       "['abid khan',\n",
       " 'adil',\n",
       " 'ali',\n",
       " 'ashraf',\n",
       " 'azim',\n",
       " 'ebad',\n",
       " 'junaid',\n",
       " 'khurram',\n",
       " 'zeeshan',\n",
       " 'zubair']"
      ]
     },
     "execution_count": 76,
     "metadata": {},
     "output_type": "execute_result"
    }
   ],
   "source": [
    "names.sort()\n",
    "names"
   ]
  },
  {
   "cell_type": "code",
   "execution_count": 77,
   "metadata": {},
   "outputs": [
    {
     "data": {
      "text/plain": [
       "['zubair',\n",
       " 'zeeshan',\n",
       " 'khurram',\n",
       " 'junaid',\n",
       " 'ebad',\n",
       " 'azim',\n",
       " 'ashraf',\n",
       " 'ali',\n",
       " 'adil',\n",
       " 'abid khan']"
      ]
     },
     "execution_count": 77,
     "metadata": {},
     "output_type": "execute_result"
    }
   ],
   "source": [
    "names.sort(reverse=True)\n",
    "names"
   ]
  },
  {
   "cell_type": "code",
   "execution_count": 81,
   "metadata": {},
   "outputs": [
    {
     "data": {
      "text/plain": [
       "['abid khan',\n",
       " 'adil',\n",
       " 'ali',\n",
       " 'ashraf',\n",
       " 'azim',\n",
       " 'ebad',\n",
       " 'junaid',\n",
       " 'khurram',\n",
       " 'zeeshan',\n",
       " 'zubair']"
      ]
     },
     "execution_count": 81,
     "metadata": {},
     "output_type": "execute_result"
    }
   ],
   "source": [
    "names.sort()\n",
    "names"
   ]
  },
  {
   "cell_type": "code",
   "execution_count": 82,
   "metadata": {},
   "outputs": [
    {
     "data": {
      "text/plain": [
       "['abid khan',\n",
       " 'adil',\n",
       " 'ali',\n",
       " 'ashraf',\n",
       " 'azim',\n",
       " 'ebad',\n",
       " 'junaid',\n",
       " 'khurram',\n",
       " 'zeeshan',\n",
       " 'zubair']"
      ]
     },
     "execution_count": 82,
     "metadata": {},
     "output_type": "execute_result"
    }
   ],
   "source": [
    "abc=names.copy()\n",
    "abc"
   ]
  },
  {
   "cell_type": "code",
   "execution_count": 83,
   "metadata": {},
   "outputs": [],
   "source": [
    "xyz=['sarfraz','ahmad']\n",
    "names.extend(xyz)"
   ]
  },
  {
   "cell_type": "code",
   "execution_count": 84,
   "metadata": {},
   "outputs": [
    {
     "data": {
      "text/plain": [
       "['abid khan',\n",
       " 'adil',\n",
       " 'ali',\n",
       " 'ashraf',\n",
       " 'azim',\n",
       " 'ebad',\n",
       " 'junaid',\n",
       " 'khurram',\n",
       " 'zeeshan',\n",
       " 'zubair',\n",
       " 'sarfraz',\n",
       " 'ahmad']"
      ]
     },
     "execution_count": 84,
     "metadata": {},
     "output_type": "execute_result"
    }
   ],
   "source": [
    "names"
   ]
  },
  {
   "cell_type": "code",
   "execution_count": 87,
   "metadata": {},
   "outputs": [],
   "source": [
    "names.extend(\"hello\")"
   ]
  },
  {
   "cell_type": "code",
   "execution_count": 88,
   "metadata": {},
   "outputs": [
    {
     "data": {
      "text/plain": [
       "['abid khan',\n",
       " 'adil',\n",
       " 'ali',\n",
       " 'ashraf',\n",
       " 'azim',\n",
       " 'ebad',\n",
       " 'junaid',\n",
       " 'khurram',\n",
       " 'zeeshan',\n",
       " 'zubair',\n",
       " 'sarfraz',\n",
       " 'ahmad',\n",
       " 'h',\n",
       " 'e',\n",
       " 'l',\n",
       " 'l',\n",
       " 'o']"
      ]
     },
     "execution_count": 88,
     "metadata": {},
     "output_type": "execute_result"
    }
   ],
   "source": [
    "names"
   ]
  },
  {
   "cell_type": "code",
   "execution_count": 92,
   "metadata": {},
   "outputs": [
    {
     "data": {
      "text/plain": [
       "['abid khan',\n",
       " 'adil',\n",
       " 'ali',\n",
       " 'ashraf',\n",
       " 'azim',\n",
       " 'ebad',\n",
       " 'junaid',\n",
       " 'khurram',\n",
       " 'zeeshan',\n",
       " 'zubair',\n",
       " 'sarfraz',\n",
       " 'ahmad',\n",
       " 'h',\n",
       " 'e',\n",
       " 'l',\n",
       " 'l',\n",
       " 'o',\n",
       " 'j',\n",
       " 'o',\n",
       " 'h',\n",
       " 'n',\n",
       " 'j',\n",
       " 'o',\n",
       " 'h',\n",
       " 'n',\n",
       " 'j',\n",
       " 'o',\n",
       " 'h',\n",
       " 'n']"
      ]
     },
     "execution_count": 92,
     "metadata": {},
     "output_type": "execute_result"
    }
   ],
   "source": [
    "names.extend(\"john\")\n",
    "names.pop\n",
    "names"
   ]
  },
  {
   "cell_type": "code",
   "execution_count": 105,
   "metadata": {},
   "outputs": [
    {
     "data": {
      "text/plain": [
       "['abid khan',\n",
       " 'adil',\n",
       " 'ali',\n",
       " 'ashraf',\n",
       " 'azim',\n",
       " 'ebad',\n",
       " 'junaid',\n",
       " 'khurram',\n",
       " 'zeeshan',\n",
       " 'zubair',\n",
       " 'sarfraz',\n",
       " 'ahmad',\n",
       " 'h',\n",
       " 'e',\n",
       " 'l',\n",
       " 'l',\n",
       " 'o',\n",
       " 'j',\n",
       " 'o']"
      ]
     },
     "execution_count": 105,
     "metadata": {},
     "output_type": "execute_result"
    }
   ],
   "source": [
    "names.pop()\n",
    "names"
   ]
  },
  {
   "cell_type": "code",
   "execution_count": 108,
   "metadata": {},
   "outputs": [
    {
     "data": {
      "text/plain": [
       "['abid khan',\n",
       " 'adil',\n",
       " 'ali',\n",
       " 'ashraf',\n",
       " 'azim',\n",
       " 'ebad',\n",
       " 'junaid',\n",
       " 'khurram',\n",
       " 'zeeshan',\n",
       " 'zubair',\n",
       " 'sarfraz',\n",
       " 'ahmad',\n",
       " 'h',\n",
       " 'e',\n",
       " 'l',\n",
       " 'l',\n",
       " 'o',\n",
       " 'j',\n",
       " 'o']"
      ]
     },
     "execution_count": 108,
     "metadata": {},
     "output_type": "execute_result"
    }
   ],
   "source": [
    "names.count(\"khurram\")\n",
    "names"
   ]
  },
  {
   "cell_type": "code",
   "execution_count": 113,
   "metadata": {},
   "outputs": [
    {
     "data": {
      "text/plain": [
       "2"
      ]
     },
     "execution_count": 113,
     "metadata": {},
     "output_type": "execute_result"
    }
   ],
   "source": [
    "names.index('ali')"
   ]
  },
  {
   "cell_type": "code",
   "execution_count": 114,
   "metadata": {},
   "outputs": [
    {
     "data": {
      "text/plain": [
       "6"
      ]
     },
     "execution_count": 114,
     "metadata": {},
     "output_type": "execute_result"
    }
   ],
   "source": [
    "names.index('junaid')"
   ]
  },
  {
   "cell_type": "code",
   "execution_count": 118,
   "metadata": {},
   "outputs": [
    {
     "data": {
      "text/plain": [
       "9"
      ]
     },
     "execution_count": 118,
     "metadata": {},
     "output_type": "execute_result"
    }
   ],
   "source": [
    "names.index('zubair')"
   ]
  },
  {
   "cell_type": "code",
   "execution_count": 119,
   "metadata": {},
   "outputs": [
    {
     "data": {
      "text/plain": [
       "['abid khan',\n",
       " 'adil',\n",
       " 'ali',\n",
       " 'ashraf',\n",
       " 'azim',\n",
       " 'ebad',\n",
       " 'junaid',\n",
       " 'khurram',\n",
       " 'zeeshan',\n",
       " 'zubair',\n",
       " 'sarfraz',\n",
       " 'ahmad',\n",
       " 'h',\n",
       " 'e',\n",
       " 'l',\n",
       " 'l',\n",
       " 'o',\n",
       " 'j',\n",
       " 'o']"
      ]
     },
     "execution_count": 119,
     "metadata": {},
     "output_type": "execute_result"
    }
   ],
   "source": [
    "names"
   ]
  },
  {
   "cell_type": "code",
   "execution_count": 120,
   "metadata": {},
   "outputs": [
    {
     "data": {
      "text/plain": [
       "['ali',\n",
       " 'ashraf',\n",
       " 'azim',\n",
       " 'ebad',\n",
       " 'junaid',\n",
       " 'khurram',\n",
       " 'zeeshan',\n",
       " 'zubair',\n",
       " 'sarfraz',\n",
       " 'ahmad',\n",
       " 'h',\n",
       " 'e',\n",
       " 'l',\n",
       " 'l',\n",
       " 'o',\n",
       " 'j',\n",
       " 'o']"
      ]
     },
     "execution_count": 120,
     "metadata": {},
     "output_type": "execute_result"
    }
   ],
   "source": [
    "names[2:]"
   ]
  },
  {
   "cell_type": "code",
   "execution_count": 121,
   "metadata": {},
   "outputs": [
    {
     "data": {
      "text/plain": [
       "['abid khan', 'adil', 'ali', 'ashraf', 'azim']"
      ]
     },
     "execution_count": 121,
     "metadata": {},
     "output_type": "execute_result"
    }
   ],
   "source": [
    "names[:5]"
   ]
  },
  {
   "cell_type": "code",
   "execution_count": 122,
   "metadata": {},
   "outputs": [
    {
     "data": {
      "text/plain": [
       "['abid khan',\n",
       " 'tariq',\n",
       " 'ali',\n",
       " 'ashraf',\n",
       " 'azim',\n",
       " 'ebad',\n",
       " 'junaid',\n",
       " 'khurram',\n",
       " 'zeeshan',\n",
       " 'zubair',\n",
       " 'sarfraz',\n",
       " 'ahmad',\n",
       " 'h',\n",
       " 'e',\n",
       " 'l',\n",
       " 'l',\n",
       " 'o',\n",
       " 'j',\n",
       " 'o']"
      ]
     },
     "execution_count": 122,
     "metadata": {},
     "output_type": "execute_result"
    }
   ],
   "source": [
    "names[1]=\"tariq\"\n",
    "names"
   ]
  },
  {
   "cell_type": "code",
   "execution_count": 123,
   "metadata": {},
   "outputs": [
    {
     "data": {
      "text/plain": [
       "['abid khan',\n",
       " 'tariq',\n",
       " 'ali',\n",
       " 'ashraf',\n",
       " 'nasir',\n",
       " 'ebad',\n",
       " 'junaid',\n",
       " 'khurram',\n",
       " 'zeeshan',\n",
       " 'zubair',\n",
       " 'sarfraz',\n",
       " 'ahmad',\n",
       " 'h',\n",
       " 'e',\n",
       " 'l',\n",
       " 'l',\n",
       " 'o',\n",
       " 'j',\n",
       " 'o']"
      ]
     },
     "execution_count": 123,
     "metadata": {},
     "output_type": "execute_result"
    }
   ],
   "source": [
    "names[4]=\"nasir\"\n",
    "names"
   ]
  },
  {
   "cell_type": "code",
   "execution_count": 125,
   "metadata": {},
   "outputs": [
    {
     "data": {
      "text/plain": [
       "['abid khan',\n",
       " 'tariq',\n",
       " 'ali',\n",
       " 'ashraf',\n",
       " 'nasir',\n",
       " 'ebad',\n",
       " 'junaid',\n",
       " 'khurram',\n",
       " 'zeeshan',\n",
       " 'zubair',\n",
       " 'sarfraz',\n",
       " 'ahmad',\n",
       " 'h',\n",
       " 'e',\n",
       " 'l',\n",
       " 'l',\n",
       " 'o']"
      ]
     },
     "execution_count": 125,
     "metadata": {},
     "output_type": "execute_result"
    }
   ],
   "source": [
    "names.pop()\n",
    "names"
   ]
  },
  {
   "cell_type": "code",
   "execution_count": 126,
   "metadata": {},
   "outputs": [
    {
     "data": {
      "text/plain": [
       "['abid khan',\n",
       " 'tariq',\n",
       " 'ali',\n",
       " 'ashraf',\n",
       " 'nasir',\n",
       " 'ebad',\n",
       " 'junaid',\n",
       " 'khurram',\n",
       " 'zeeshan',\n",
       " 'zubair',\n",
       " 'sarfraz',\n",
       " 'ahmad',\n",
       " 'e',\n",
       " 'l',\n",
       " 'l',\n",
       " 'o']"
      ]
     },
     "execution_count": 126,
     "metadata": {},
     "output_type": "execute_result"
    }
   ],
   "source": [
    "names.remove('h')\n",
    "names"
   ]
  },
  {
   "cell_type": "code",
   "execution_count": 131,
   "metadata": {},
   "outputs": [
    {
     "data": {
      "text/plain": [
       "['abid khan',\n",
       " 'tariq',\n",
       " 'ali',\n",
       " 'ashraf',\n",
       " 'nasir',\n",
       " 'ebad',\n",
       " 'junaid',\n",
       " 'khurram',\n",
       " 'zeeshan',\n",
       " 'zubair',\n",
       " 'sarfraz',\n",
       " 'ahmad']"
      ]
     },
     "execution_count": 131,
     "metadata": {},
     "output_type": "execute_result"
    }
   ],
   "source": [
    "names.remove('o')\n",
    "names"
   ]
  },
  {
   "cell_type": "code",
   "execution_count": 132,
   "metadata": {},
   "outputs": [],
   "source": [
    "newlist = [\"zain\",\"zafar\"]"
   ]
  },
  {
   "cell_type": "code",
   "execution_count": 133,
   "metadata": {},
   "outputs": [
    {
     "data": {
      "text/plain": [
       "['zain', 'zafar']"
      ]
     },
     "execution_count": 133,
     "metadata": {},
     "output_type": "execute_result"
    }
   ],
   "source": [
    "newlist"
   ]
  },
  {
   "cell_type": "code",
   "execution_count": 136,
   "metadata": {},
   "outputs": [],
   "source": [
    "n=newlist\n"
   ]
  },
  {
   "cell_type": "code",
   "execution_count": 137,
   "metadata": {},
   "outputs": [
    {
     "data": {
      "text/plain": [
       "['zain', 'zafar']"
      ]
     },
     "execution_count": 137,
     "metadata": {},
     "output_type": "execute_result"
    }
   ],
   "source": [
    "n"
   ]
  },
  {
   "cell_type": "code",
   "execution_count": 138,
   "metadata": {},
   "outputs": [],
   "source": [
    "names.extend(n)"
   ]
  },
  {
   "cell_type": "code",
   "execution_count": 139,
   "metadata": {},
   "outputs": [
    {
     "data": {
      "text/plain": [
       "['abid khan',\n",
       " 'tariq',\n",
       " 'ali',\n",
       " 'ashraf',\n",
       " 'nasir',\n",
       " 'ebad',\n",
       " 'junaid',\n",
       " 'khurram',\n",
       " 'zeeshan',\n",
       " 'zubair',\n",
       " 'sarfraz',\n",
       " 'ahmad',\n",
       " 'zain',\n",
       " 'zafar']"
      ]
     },
     "execution_count": 139,
     "metadata": {},
     "output_type": "execute_result"
    }
   ],
   "source": [
    "names"
   ]
  },
  {
   "cell_type": "code",
   "execution_count": 142,
   "metadata": {},
   "outputs": [],
   "source": [
    "names.append('k')"
   ]
  },
  {
   "cell_type": "code",
   "execution_count": 143,
   "metadata": {},
   "outputs": [
    {
     "data": {
      "text/plain": [
       "['abid khan',\n",
       " 'tariq',\n",
       " 'ali',\n",
       " 'ashraf',\n",
       " 'nasir',\n",
       " 'ebad',\n",
       " 'junaid',\n",
       " 'khurram',\n",
       " 'zeeshan',\n",
       " 'zubair',\n",
       " 'sarfraz',\n",
       " 'ahmad',\n",
       " 'zain',\n",
       " 'zafar',\n",
       " 'k']"
      ]
     },
     "execution_count": 143,
     "metadata": {},
     "output_type": "execute_result"
    }
   ],
   "source": [
    "names"
   ]
  },
  {
   "cell_type": "code",
   "execution_count": 144,
   "metadata": {},
   "outputs": [],
   "source": [
    "names.remove('k')"
   ]
  },
  {
   "cell_type": "code",
   "execution_count": 145,
   "metadata": {},
   "outputs": [
    {
     "data": {
      "text/plain": [
       "['abid khan',\n",
       " 'tariq',\n",
       " 'ali',\n",
       " 'ashraf',\n",
       " 'nasir',\n",
       " 'ebad',\n",
       " 'junaid',\n",
       " 'khurram',\n",
       " 'zeeshan',\n",
       " 'zubair',\n",
       " 'sarfraz',\n",
       " 'ahmad',\n",
       " 'zain',\n",
       " 'zafar']"
      ]
     },
     "execution_count": 145,
     "metadata": {},
     "output_type": "execute_result"
    }
   ],
   "source": [
    "names"
   ]
  },
  {
   "cell_type": "code",
   "execution_count": 146,
   "metadata": {},
   "outputs": [
    {
     "data": {
      "text/plain": [
       "'tariq'"
      ]
     },
     "execution_count": 146,
     "metadata": {},
     "output_type": "execute_result"
    }
   ],
   "source": [
    "names.pop(1)"
   ]
  },
  {
   "cell_type": "code",
   "execution_count": 147,
   "metadata": {},
   "outputs": [
    {
     "data": {
      "text/plain": [
       "['abid khan',\n",
       " 'ali',\n",
       " 'ashraf',\n",
       " 'nasir',\n",
       " 'ebad',\n",
       " 'junaid',\n",
       " 'khurram',\n",
       " 'zeeshan',\n",
       " 'zubair',\n",
       " 'sarfraz',\n",
       " 'ahmad',\n",
       " 'zain',\n",
       " 'zafar']"
      ]
     },
     "execution_count": 147,
     "metadata": {},
     "output_type": "execute_result"
    }
   ],
   "source": [
    "names"
   ]
  },
  {
   "cell_type": "code",
   "execution_count": 148,
   "metadata": {},
   "outputs": [
    {
     "data": {
      "text/plain": [
       "1"
      ]
     },
     "execution_count": 148,
     "metadata": {},
     "output_type": "execute_result"
    }
   ],
   "source": [
    "names.count('zubair')"
   ]
  },
  {
   "cell_type": "code",
   "execution_count": 149,
   "metadata": {},
   "outputs": [
    {
     "data": {
      "text/plain": [
       "['abid khan',\n",
       " 'ali',\n",
       " 'ashraf',\n",
       " 'nasir',\n",
       " 'ebad',\n",
       " 'junaid',\n",
       " 'khurram',\n",
       " 'zeeshan',\n",
       " 'zubair',\n",
       " 'sarfraz',\n",
       " 'ahmad',\n",
       " 'zain',\n",
       " 'zafar']"
      ]
     },
     "execution_count": 149,
     "metadata": {},
     "output_type": "execute_result"
    }
   ],
   "source": [
    "names"
   ]
  },
  {
   "cell_type": "code",
   "execution_count": 150,
   "metadata": {},
   "outputs": [
    {
     "data": {
      "text/plain": [
       "['zain', 'zafar']"
      ]
     },
     "execution_count": 150,
     "metadata": {},
     "output_type": "execute_result"
    }
   ],
   "source": [
    "n"
   ]
  },
  {
   "cell_type": "code",
   "execution_count": 156,
   "metadata": {},
   "outputs": [],
   "source": [
    "n.append('ali')"
   ]
  },
  {
   "cell_type": "code",
   "execution_count": 157,
   "metadata": {},
   "outputs": [
    {
     "data": {
      "text/plain": [
       "['zain', 'zafar', 'ali']"
      ]
     },
     "execution_count": 157,
     "metadata": {},
     "output_type": "execute_result"
    }
   ],
   "source": [
    "n"
   ]
  },
  {
   "cell_type": "code",
   "execution_count": 158,
   "metadata": {},
   "outputs": [],
   "source": [
    "names.extend(n)"
   ]
  },
  {
   "cell_type": "code",
   "execution_count": 159,
   "metadata": {},
   "outputs": [
    {
     "data": {
      "text/plain": [
       "['abid khan',\n",
       " 'ali',\n",
       " 'ashraf',\n",
       " 'nasir',\n",
       " 'ebad',\n",
       " 'junaid',\n",
       " 'khurram',\n",
       " 'zeeshan',\n",
       " 'zubair',\n",
       " 'sarfraz',\n",
       " 'ahmad',\n",
       " 'zain',\n",
       " 'zafar',\n",
       " 'zain',\n",
       " 'zafar',\n",
       " 'ali']"
      ]
     },
     "execution_count": 159,
     "metadata": {},
     "output_type": "execute_result"
    }
   ],
   "source": [
    "names"
   ]
  },
  {
   "cell_type": "code",
   "execution_count": 160,
   "metadata": {},
   "outputs": [
    {
     "data": {
      "text/plain": [
       "2"
      ]
     },
     "execution_count": 160,
     "metadata": {},
     "output_type": "execute_result"
    }
   ],
   "source": [
    "names.count('ali')"
   ]
  },
  {
   "cell_type": "code",
   "execution_count": 161,
   "metadata": {},
   "outputs": [
    {
     "data": {
      "text/plain": [
       "['abid khan',\n",
       " 'ali',\n",
       " 'ashraf',\n",
       " 'nasir',\n",
       " 'junaid',\n",
       " 'khurram',\n",
       " 'zeeshan',\n",
       " 'zubair',\n",
       " 'sarfraz',\n",
       " 'ahmad',\n",
       " 'zain',\n",
       " 'zafar',\n",
       " 'zain',\n",
       " 'zafar',\n",
       " 'ali']"
      ]
     },
     "execution_count": 161,
     "metadata": {},
     "output_type": "execute_result"
    }
   ],
   "source": [
    "names.remove('ebad')\n",
    "names"
   ]
  },
  {
   "cell_type": "code",
   "execution_count": null,
   "metadata": {},
   "outputs": [],
   "source": []
  }
 ],
 "metadata": {
  "kernelspec": {
   "display_name": "Python 3",
   "language": "python",
   "name": "python3"
  },
  "language_info": {
   "codemirror_mode": {
    "name": "ipython",
    "version": 3
   },
   "file_extension": ".py",
   "mimetype": "text/x-python",
   "name": "python",
   "nbconvert_exporter": "python",
   "pygments_lexer": "ipython3",
   "version": "3.6.5"
  }
 },
 "nbformat": 4,
 "nbformat_minor": 2
}
